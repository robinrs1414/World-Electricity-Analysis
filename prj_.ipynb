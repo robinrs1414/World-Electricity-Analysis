{
 "cells": [
  {
   "cell_type": "code",
   "execution_count": 1,
   "metadata": {},
   "outputs": [],
   "source": [
    "import glob\n",
    "import pandas as pd\n",
    "import pyodbc,sqlalchemy,socket\n",
    "from sqlalchemy.sql import text"
   ]
  },
  {
   "cell_type": "code",
   "execution_count": 2,
   "metadata": {},
   "outputs": [
    {
     "name": "stdout",
     "output_type": "stream",
     "text": [
      "['access_to_electricity_urban__world\\\\API_EG.ELC.ACCS.UR.ZS_DS2_en_csv_v2_4367536.json', 'access_to_electricity__total\\\\API_EG.ELC.ACCS.ZS_DS2_en_csv_v2_4353549.json', 'access_to_elec_rural__world\\\\API_EG.ELC.ACCS.RU.ZS_DS2_en_csv_v2_4364070.json', 'electricity_power_transmissoin_distribution_losses\\\\API_EG.ELC.LOSS.ZS_DS2_en_csv_v2_4357259.json', 'electricity_production_nuclear_sources\\\\API_EG.ELC.NUCL.ZS_DS2_en_csv_v2_4357319.json', 'electricity_production_oil_sources\\\\API_EG.ELC.PETR.ZS_DS2_en_csv_v2_4356435.json', 'electricity_production_renewable_sources\\\\API_EG.ELC.RNWX.KH_DS2_en_csv_v2_4356007.json']\n"
     ]
    }
   ],
   "source": [
    "lst_file = glob.glob(\"**/*.json\")\n",
    "print(lst_file)"
   ]
  },
  {
   "cell_type": "code",
   "execution_count": 3,
   "metadata": {},
   "outputs": [],
   "source": [
    "# conn = pyodbc.connect(\n",
    "#     \"Driver={SQL SERVER Native Client 11.0};\"\n",
    "#     \"Server=DESKTOP-3GIQDP1;\"\n",
    "#     \"Database=Evaluation;\"\n",
    "#     \"Trusted_Connection=yes;\"\n",
    "# )\n",
    "# cursor = conn.cursor()\n",
    "\n",
    "conn = sqlalchemy.create_engine(f'mssql+pyodbc://{socket.gethostname()}/Evaluation?trusted_connetion=yes&driver=ODBC Driver 17 for SQL Server')\n",
    "\n",
    "for i in lst_file:\n",
    "    df = pd.read_json(i)\n",
    "    nam = i.split(\"\\\\\")[0]\n",
    "    f_name= nam+\".csv\"\n",
    "    df.to_csv(f_name)\n",
    "    df = pd.read_csv(f_name)\n",
    "    \n",
    "    query = \"CREATE TABLE \"+nam+\"(CountryName varchar(100),CountryCode varchar(50), IndicatorName varchar(200),IndicatorCode varchar(200),[1960] float,[1961] float,[1962] float,[1963] float,[1964] float,[1965] float,[1966] float,[1967] float,[1968] float,[1969] float,[1970] float,[1971] float,[1972] float,[1973] float,[1974] float,[1975] float,[1976] float,[1977] float,[1978] float,[1979] float,[1980] float,[1981] float,[1982] float,[1983] float,[1984] float,[1985] float,[1986] float,[1987] float,[1988] float,[1989] float,[1990] float,[1991] float,[1992] float,[1993] float,[1994] float,[1995] float,[1996] float,[1997] float,[1998] float,[1999] float,[2000] float,[2001] float,[2002] float,[2003] float,[2004] float,[2005] float,[2006] float,[2007] float,[2008] float,[2009] float,[2010] float,[2011] float,[2012] float,[2013] float,[2014] float,[2015] float,[2016] float,[2017] float,[2018] float,[2019] float,[2020] float,[2021] float);\"\n",
    "\n",
    "    \n",
    "    conn.execute(text(query).execution_options(autocommit=True))\n",
    "\n",
    "\n",
    "    clm = df.iloc[1,1:5]\n",
    "    clm = clm.to_list()\n",
    "\n",
    "    for i in range(1960,2022,1):\n",
    "        clm.append(i)\n",
    "\n",
    "    df.drop(['Unnamed: 0','66'],axis=1,inplace=True)\n",
    "    df.drop([0,1],axis=0,inplace=True)\n",
    "\n",
    "    df.columns = clm\n",
    "\n",
    "    df.fillna(0, inplace=True)\n",
    "\n",
    "    df.reset_index()\n",
    "\n",
    "    \n",
    "\n",
    "    df.to_sql(nam,con=conn,if_exists=\"replace\",index=False)\n"
   ]
  },
  {
   "cell_type": "code",
   "execution_count": 22,
   "metadata": {},
   "outputs": [
    {
     "data": {
      "text/plain": [
       "'CREATE TABLE access_to_electricity_urban__world(CountryName varchar(100),CountryCode varchar(50), IndicatorName varchar(200),IndicatorCode varchar(200),[1960] float,[1961] float,[1962] float,[1963] float,[1964] float,[1965] float,[1966] float,[1967] float,[1968] float,[1969] float,[1970] float,[1971] float,[1972] float,[1973] float,[1974] float,[1975] float,[1976] float,[1977] float,[1978] float,[1979] float,[1980] float,[1981] float,[1982] float,[1983] float,[1984] float,[1985] float,[1986] float,[1987] float,[1988] float,[1989] float,[1990] float,[1991] float,[1992] float,[1993] float,[1994] float,[1995] float,[1996] float,[1997] float,[1998] float,[1999] float,[2000] float,[2001] float,[2002] float,[2003] float,[2004] float,[2005] float,[2006] float,[2007] float,[2008] float,[2009] float,[2010] float,[2011] float,[2012] float,[2013] float,[2014] float,[2015] float,[2016] float,[2017] float,[2018] float,[2019] float,[2020] float,[2021] float);'"
      ]
     },
     "execution_count": 22,
     "metadata": {},
     "output_type": "execute_result"
    }
   ],
   "source": [
    "tbl = \"access_to_electricity_urban__world\"\n",
    "query = \"CREATE TABLE \"+tbl+\"\"\"(CountryName varchar(100),CountryCode varchar(50), IndicatorName varchar(200),IndicatorCode varchar(200),[1960] float,[1961] float,[1962] float,[1963] float,[1964] float,[1965] float,[1966] float,[1967] float,[1968] float,[1969] float,[1970] float,[1971] float,[1972] float,[1973] float,[1974] float,[1975] float,[1976] float,[1977] float,[1978] float,[1979] float,[1980] float,[1981] float,[1982] float,[1983] float,[1984] float,[1985] float,[1986] float,[1987] float,[1988] float,[1989] float,[1990] float,[1991] float,[1992] float,[1993] float,[1994] float,[1995] float,[1996] float,[1997] float,[1998] float,[1999] float,[2000] float,[2001] float,[2002] float,[2003] float,[2004] float,[2005] float,[2006] float,[2007] float,[2008] float,[2009] float,[2010] float,[2011] float,[2012] float,[2013] float,[2014] float,[2015] float,[2016] float,[2017] float,[2018] float,[2019] float,[2020] float,[2021] float);\"\"\"\n",
    "query\n"
   ]
  },
  {
   "cell_type": "code",
   "execution_count": 4,
   "metadata": {},
   "outputs": [
    {
     "data": {
      "text/plain": [
       "<sqlalchemy.engine.cursor.LegacyCursorResult at 0x1facb17b2e0>"
      ]
     },
     "execution_count": 4,
     "metadata": {},
     "output_type": "execute_result"
    }
   ],
   "source": [
    "conn2 = sqlalchemy.create_engine(f'mssql+pyodbc://{socket.gethostname()}/Evaluation?trusted_connetion=yes&driver=ODBC Driver 17 for SQL Server')\n",
    "conn2.execute(text(\"Create TABle demo3(row int)\").execution_options(autocommit=True))"
   ]
  },
  {
   "cell_type": "code",
   "execution_count": null,
   "metadata": {},
   "outputs": [],
   "source": [
    "df = pd.read_csv(\"ele_urban_world.csv\")\n",
    "df"
   ]
  },
  {
   "cell_type": "code",
   "execution_count": null,
   "metadata": {},
   "outputs": [],
   "source": [
    "df.shape"
   ]
  },
  {
   "cell_type": "code",
   "execution_count": null,
   "metadata": {},
   "outputs": [],
   "source": [
    "print(df.isnull().sum())"
   ]
  },
  {
   "cell_type": "code",
   "execution_count": null,
   "metadata": {},
   "outputs": [],
   "source": [
    "# df.drop(0,axis=0,inplace=True)\n",
    "# df.reset_index"
   ]
  },
  {
   "cell_type": "code",
   "execution_count": null,
   "metadata": {},
   "outputs": [],
   "source": [
    "# df.fillna(0,inplace=True)"
   ]
  },
  {
   "cell_type": "code",
   "execution_count": null,
   "metadata": {},
   "outputs": [],
   "source": [
    "import pyodbc\n",
    "conn = pyodbc.connect(\n",
    "    \"Driver={SQL SERVER Native Client 11.0};\"\n",
    "    \"Server=DESKTOP-3GIQDP1;\"\n",
    "    \"Database=Evaluation;\"\n",
    "    \"Trusted_Connection=yes;\"\n",
    ")\n",
    "\n",
    "# read(conn)\n",
    "# create(conn)\n",
    "# update(conn)\n",
    "# conn.close()"
   ]
  },
  {
   "cell_type": "code",
   "execution_count": null,
   "metadata": {},
   "outputs": [],
   "source": [
    "cursor = conn.cursor()\n",
    "# cursor.execute(\"SELECT * FROM Suppliers\")"
   ]
  },
  {
   "cell_type": "code",
   "execution_count": null,
   "metadata": {},
   "outputs": [],
   "source": [
    "pyodbc.drivers()"
   ]
  },
  {
   "cell_type": "code",
   "execution_count": null,
   "metadata": {},
   "outputs": [],
   "source": [
    "conn2 = sqlalchemy.create_engine(f'mssql+pyodbc://{socket.gethostname()}/Evaluation?trusted_connetion=yes&driver=ODBC Driver 17 for SQL Server')\n",
    "\n",
    "df.to_sql(\"demo1\",con=conn2,if_exists=\"replace\",index=False)"
   ]
  },
  {
   "cell_type": "code",
   "execution_count": null,
   "metadata": {},
   "outputs": [],
   "source": [
    "table = 'hello'"
   ]
  },
  {
   "cell_type": "code",
   "execution_count": null,
   "metadata": {},
   "outputs": [],
   "source": [
    "cursor.execute(f\"\"\"CREATE TABLE {table}(CountryName varchar(100),CountryCode varchar(50), IndicatorName varchar(200),\n",
    "IndicatorCode varchar(200),[1960] float,[1961] float,[1962] float,[1963] float,[1964] float,[1965] float,[1966] float,[1967] float,\n",
    "[1968] float,[1969] float,[1970] float,[1971] float,[1972] float,[1973] float,[1974] float,[1975] float,[1976] float,[1977] float,\n",
    "[1978] float,[1979] float,[1980] float,[1981] float,[1982] float,[1983] float,[1984] float,[1985] float,[1986] float,[1987] float,\n",
    "[1988] float,[1989] float,[1990] float,[1991] float,[1992] float,[1993] float,[1994] float,[1995] float,[1996] float,[1997] float,\n",
    "[1998] float,[1999] float,[2000] float,[2001] float,[2002] float,[2003] float,[2004] float,[2005] float,[2006] float,[2007] float,\n",
    "[2008] float,[2009] float,[2010] float,[2011] float,[2012] float,[2013] float,[2014] float,[2015] float,[2016] float,[2017] float,\n",
    "[2018] float,[2019] float,[2020] float,[2021] float)\"\"\")"
   ]
  },
  {
   "cell_type": "code",
   "execution_count": null,
   "metadata": {},
   "outputs": [],
   "source": [
    "import os\n",
    "cursor = conn.cursor()\n",
    "result = cursor.fetchall()\n",
    "string = \"BULK INSERT {} FROM '{}' (WITH FORMAT = 'CSV');\"\n",
    "file_path = os.getcwd()\n",
    "# cursor.execute(string.format(df, file_path))\n",
    "cursor.executemany()"
   ]
  },
  {
   "cell_type": "code",
   "execution_count": null,
   "metadata": {},
   "outputs": [],
   "source": [
    "cursor.execute(\"\"\"SELECT * FROM sys.Tables;\"\"\")"
   ]
  },
  {
   "cell_type": "code",
   "execution_count": null,
   "metadata": {},
   "outputs": [],
   "source": [
    "for row in cursor:\n",
    "    print(row)"
   ]
  },
  {
   "cell_type": "code",
   "execution_count": null,
   "metadata": {},
   "outputs": [],
   "source": [
    "# df2 = pd.read_csv('ele_urban_world.csv')\n",
    "# df2.drop([0], axis=0)\n",
    "clm = df.iloc[0]\n",
    "clm"
   ]
  },
  {
   "cell_type": "code",
   "execution_count": null,
   "metadata": {},
   "outputs": [],
   "source": [
    "clm = df.iloc[1,1:5]\n",
    "clm = clm.to_list()\n",
    "type(clm)"
   ]
  },
  {
   "cell_type": "code",
   "execution_count": null,
   "metadata": {},
   "outputs": [],
   "source": [
    "for i in range(1960,2022,1):\n",
    "    clm.append(i)"
   ]
  },
  {
   "cell_type": "code",
   "execution_count": null,
   "metadata": {},
   "outputs": [],
   "source": [
    "clm"
   ]
  },
  {
   "cell_type": "code",
   "execution_count": null,
   "metadata": {},
   "outputs": [],
   "source": [
    "# df = pd.read_csv(\"ele_urban_world.csv\")\n",
    "df.drop(['Unnamed: 0','66'],axis=1,inplace=True)\n",
    "df.drop([0,1],axis=0,inplace=True)\n",
    "# df\n",
    "# df.columns"
   ]
  },
  {
   "cell_type": "code",
   "execution_count": null,
   "metadata": {},
   "outputs": [],
   "source": [
    "df.columns = clm"
   ]
  },
  {
   "cell_type": "code",
   "execution_count": null,
   "metadata": {},
   "outputs": [],
   "source": [
    "df"
   ]
  },
  {
   "cell_type": "code",
   "execution_count": null,
   "metadata": {},
   "outputs": [],
   "source": [
    "df.fillna(0, inplace=True)"
   ]
  },
  {
   "cell_type": "code",
   "execution_count": null,
   "metadata": {},
   "outputs": [],
   "source": [
    "df.reset_index()"
   ]
  },
  {
   "cell_type": "code",
   "execution_count": null,
   "metadata": {},
   "outputs": [],
   "source": [
    "df.to_csv(\"demo1.csv\")"
   ]
  },
  {
   "cell_type": "code",
   "execution_count": null,
   "metadata": {},
   "outputs": [],
   "source": [
    "df.columns"
   ]
  },
  {
   "cell_type": "code",
   "execution_count": null,
   "metadata": {},
   "outputs": [],
   "source": []
  }
 ],
 "metadata": {
  "kernelspec": {
   "display_name": "Python 3.9.6 ('masai_env': venv)",
   "language": "python",
   "name": "python3"
  },
  "language_info": {
   "codemirror_mode": {
    "name": "ipython",
    "version": 3
   },
   "file_extension": ".py",
   "mimetype": "text/x-python",
   "name": "python",
   "nbconvert_exporter": "python",
   "pygments_lexer": "ipython3",
   "version": "3.9.6"
  },
  "orig_nbformat": 4,
  "vscode": {
   "interpreter": {
    "hash": "65e06e7c8583adc957fea924c6ed60316a0c0a2bb4fa70cd09ba6dad0d0fc632"
   }
  }
 },
 "nbformat": 4,
 "nbformat_minor": 2
}
